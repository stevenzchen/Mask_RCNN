{
 "cells": [
  {
   "cell_type": "markdown",
   "metadata": {},
   "source": [
    "### mean Intersection over Union metric"
   ]
  },
  {
   "cell_type": "code",
   "execution_count": 1,
   "metadata": {},
   "outputs": [
    {
     "name": "stderr",
     "output_type": "stream",
     "text": [
      "/home/shared/anaconda3/lib/python3.6/site-packages/h5py/__init__.py:36: FutureWarning: Conversion of the second argument of issubdtype from `float` to `np.floating` is deprecated. In future, it will be treated as `np.float64 == np.dtype(float).type`.\n",
      "  from ._conv import register_converters as _register_converters\n",
      "Using TensorFlow backend.\n"
     ]
    },
    {
     "name": "stdout",
     "output_type": "stream",
     "text": [
      "Making config\n",
      "Creating Inference Model\n",
      "/home/stevenzc/Mask_RCNN/mrcnn/logs\n"
     ]
    }
   ],
   "source": [
    "import os\n",
    "import sys\n",
    "import random\n",
    "import math\n",
    "import numpy as np\n",
    "import skimage.io\n",
    "import matplotlib\n",
    "import matplotlib.pyplot as plt\n",
    "\n",
    "import glob\n",
    "import csv\n",
    "\n",
    "%matplotlib inline \n",
    "\n",
    "ROOT_DIR = os.getcwd()\n",
    "MODEL_DIR = os.path.join(ROOT_DIR, \"logs\")\n",
    "\n",
    "from mrcnn import utils\n",
    "import mrcnn.model as modellib\n",
    "from mrcnn import visualize\n",
    "\n",
    "from wad_config import WadConfig\n",
    "from wad_dataset import WadDataset\n",
    "from wad_dataset_val import WadDatasetVal\n",
    "\n",
    "print(\"Making config\")\n",
    "config = WadConfig()\n",
    "inference_config=config\n",
    "print(\"Creating Inference Model\")\n",
    "model = modellib.MaskRCNN(mode=\"inference\",config=inference_config, model_dir=MODEL_DIR)\n",
    "\n",
    "print(MODEL_DIR)"
   ]
  },
  {
   "cell_type": "code",
   "execution_count": 2,
   "metadata": {},
   "outputs": [
    {
     "name": "stdout",
     "output_type": "stream",
     "text": [
      "/home/stevenzc/Mask_RCNN/mrcnn/logs/wad20180601T0805/mask_rcnn_wad_0452.h5\n",
      "Loading weights\n",
      "Loading weights from  /home/stevenzc/Mask_RCNN/mrcnn/logs/wad20180601T0805/mask_rcnn_wad_0452.h5\n"
     ]
    }
   ],
   "source": [
    "# assumes that the weights are in the mrcnn/logs folder\n",
    "\n",
    "# Get path to saved weights\n",
    "# Either set a specific path or find last trained weights\n",
    "model_path = model.find_last()[1]\n",
    "print(model_path)\n",
    "\n",
    "# NOTE: override with a specific path here\n",
    "# model_path = '/home/stevenzc/Mask_RCNN/mrcnn/logs/wad20180517T2126/mask_rcnn_wad_0100.h5'\n",
    "\n",
    "print(\"Loading weights\")\n",
    "# Load trained weights (fill in path to trained weights here)\n",
    "assert model_path != \"\", \"Provide path to trained weights\"\n",
    "print(\"Loading weights from \", model_path)\n",
    "model.load_weights(model_path, by_name=True)"
   ]
  },
  {
   "cell_type": "code",
   "execution_count": 3,
   "metadata": {},
   "outputs": [
    {
     "name": "stdout",
     "output_type": "stream",
     "text": [
      "car 1\n",
      "motorcycle 2\n",
      "bicycle 3\n",
      "person 4\n",
      "truck 5\n",
      "bus 6\n",
      "tricycle 7\n"
     ]
    }
   ],
   "source": [
    "# Our WAD Class names\n",
    "# Index of the class in the list is its ID. For example, to get ID of\n",
    "# the teddy bear class, use: class_names.index('teddy bear')\n",
    "class_names = ['BG', 'car', 'motorcycle', 'bicycle', 'person', 'truck', 'bus', 'tricycle']\n",
    "\n",
    "print('car', class_names.index('car'))\n",
    "print('motorcycle', class_names.index('motorcycle'))\n",
    "print('bicycle', class_names.index('bicycle'))\n",
    "print('person', class_names.index('person'))\n",
    "print('truck', class_names.index('truck'))\n",
    "print('bus', class_names.index('bus'))\n",
    "print('tricycle', class_names.index('tricycle'))"
   ]
  },
  {
   "cell_type": "code",
   "execution_count": 4,
   "metadata": {},
   "outputs": [],
   "source": [
    "def get_mask(label_im):\n",
    "    \"\"\"Return single mask from training labels for iou checking.\"\"\"\n",
    "    instances = np.unique(label_im)\n",
    "\n",
    "    wad_to_ours = {\n",
    "        33: 1,\n",
    "        34: 2,\n",
    "        35: 3,\n",
    "        36: 4,\n",
    "        38: 5,\n",
    "        39: 6,\n",
    "        40: 7\n",
    "    }\n",
    "    \n",
    "    mask = np.zeros_like(label_im)\n",
    "\n",
    "    for instance in instances:\n",
    "        if instance != 255 and instance != 65535:\n",
    "            wad_id = int(instance / 1000)\n",
    "            if wad_id not in wad_to_ours:\n",
    "                continue\n",
    "            our_id = wad_to_ours[wad_id]\n",
    "            mask[label_im == instance] = our_id\n",
    "    return mask"
   ]
  },
  {
   "cell_type": "markdown",
   "metadata": {},
   "source": [
    "### Read the train video list and get the appropriate images and ground truth masks"
   ]
  },
  {
   "cell_type": "code",
   "execution_count": 22,
   "metadata": {},
   "outputs": [],
   "source": [
    "video = 'road03_cam_6_video_9'\n",
    "\n",
    "DVS_folder = '/home/stevenzc/train/' + video + '/'\n",
    "video_list = '/home/stevenzc/cvpr-2018-autonomous-driving/train_video_list/' + video + '_image_list_train.txt'"
   ]
  },
  {
   "cell_type": "code",
   "execution_count": 23,
   "metadata": {},
   "outputs": [],
   "source": [
    "WAD_TRAIN = \"/home/stevenzc/cvpr-2018-autonomous-driving/train_color/\"\n",
    "WAD_TRAIN_MASK = \"/home/stevenzc/cvpr-2018-autonomous-driving/train_label/\"\n",
    "\n",
    "with open(video_list) as f:\n",
    "    content = f.readlines()\n",
    "content = [x.strip() for x in content] \n",
    "\n",
    "train_image_paths = []\n",
    "train_mask_image_paths = []\n",
    "\n",
    "for line in content:\n",
    "    raw_image_name = line.split('\\\\')[-1]\n",
    "    # prefix looks like 171206_033003934_Camera_6\n",
    "    prefix = raw_image_name.split('_instanceIds.png')[0]\n",
    "    train_image_paths.append(WAD_TRAIN + prefix + '.jpg')\n",
    "    train_mask_image_paths.append(WAD_TRAIN_MASK + prefix + '_instanceIds.png')"
   ]
  },
  {
   "cell_type": "code",
   "execution_count": 24,
   "metadata": {},
   "outputs": [
    {
     "data": {
      "text/plain": [
       "247"
      ]
     },
     "execution_count": 24,
     "metadata": {},
     "output_type": "execute_result"
    }
   ],
   "source": [
    "len(train_image_paths)"
   ]
  },
  {
   "cell_type": "code",
   "execution_count": 27,
   "metadata": {},
   "outputs": [
    {
     "name": "stdout",
     "output_type": "stream",
     "text": [
      "0\n",
      "10\n",
      "20\n",
      "30\n",
      "40\n",
      "50\n",
      "60\n",
      "70\n",
      "80\n",
      "90\n",
      "100\n",
      "110\n",
      "120\n",
      "130\n",
      "140\n",
      "150\n",
      "160\n",
      "170\n",
      "180\n",
      "190\n",
      "200\n",
      "210\n",
      "220\n",
      "230\n",
      "240\n",
      "[875.   2.   0.  15. 503.   0.   0.]\n"
     ]
    }
   ],
   "source": [
    "instances = np.zeros(7)\n",
    "\n",
    "wad_to_ours = {\n",
    "        33: 1,\n",
    "        34: 2,\n",
    "        35: 3,\n",
    "        36: 4,\n",
    "        38: 5,\n",
    "        39: 6,\n",
    "        40: 7\n",
    "    }\n",
    "\n",
    "for i in range(len(train_image_paths)):\n",
    "    if i % 10 == 0:\n",
    "        print(i)\n",
    "    img = skimage.io.imread(train_mask_image_paths[i])\n",
    "    uniques = np.unique(img)\n",
    "    for unique in uniques:\n",
    "        if unique != 255 and unique != 65535:\n",
    "            wad_id = int(unique / 1000)\n",
    "            if wad_id not in wad_to_ours:\n",
    "                continue\n",
    "            our_id = wad_to_ours[wad_id]\n",
    "            instances[our_id - 1] += 1\n",
    "\n",
    "print(instances)"
   ]
  },
  {
   "cell_type": "markdown",
   "metadata": {},
   "source": [
    "### Convert DVSNet masks into our format"
   ]
  },
  {
   "cell_type": "code",
   "execution_count": 8,
   "metadata": {},
   "outputs": [],
   "source": [
    "label_colours = [(128, 64, 128), (244, 35, 231), (69, 69, 69)\n",
    "                # 0 = road, 1 = sidewalk, 2 = building\n",
    "                ,(102, 102, 156), (190, 153, 153), (153, 153, 153)\n",
    "                # 3 = wall, 4 = fence, 5 = pole\n",
    "                ,(250, 170, 29), (219, 219, 0), (106, 142, 35)\n",
    "                # 6 = traffic light, 7 = traffic sign, 8 = vegetation\n",
    "                ,(152, 250, 152), (69, 129, 180), (219, 19, 60)\n",
    "                # 9 = terrain, 10 = sky, 11 = person\n",
    "                ,(255, 0, 0), (0, 0, 142), (0, 0, 69)\n",
    "                # 12 = rider, 13 = car, 14 = truck\n",
    "                ,(0, 60, 100), (0, 79, 100), (0, 0, 230)\n",
    "                # 15 = bus, 16 = train, 17 = motocycle\n",
    "                ,(119, 10, 32)]\n",
    "                # 18 = bicycle\n",
    "\n",
    "dvs_to_ours = {\n",
    "    13: 1,    # car 1\n",
    "    17: 2,    # motorcycle 2\n",
    "    18: 3,    # bicycle 3\n",
    "    11: 4,    # person 4\n",
    "    14: 5,    # truck 5\n",
    "    15: 6,    # bus 6\n",
    "              # tricycle 7\n",
    "}"
   ]
  },
  {
   "cell_type": "code",
   "execution_count": 10,
   "metadata": {},
   "outputs": [
    {
     "name": "stderr",
     "output_type": "stream",
     "text": [
      "/home/shared/anaconda3/lib/python3.6/site-packages/ipykernel_launcher.py:5: DeprecationWarning: `imresize` is deprecated!\n",
      "`imresize` is deprecated in SciPy 1.0.0, and will be removed in 1.2.0.\n",
      "Use ``skimage.transform.resize`` instead.\n",
      "  \"\"\"\n"
     ]
    },
    {
     "data": {
      "text/plain": [
       "<matplotlib.image.AxesImage at 0x7f04e4542c18>"
      ]
     },
     "execution_count": 10,
     "metadata": {},
     "output_type": "execute_result"
    },
    {
     "data": {
      "image/png": "[encoded data removed]",
      "text/plain": [
       "<matplotlib.figure.Figure at 0x7f04e46385c0>"
      ]
     },
     "metadata": {},
     "output_type": "display_data"
    }
   ],
   "source": [
    "from scipy.misc import imresize\n",
    "\n",
    "DVS_sample = DVS_folder + 'mask190.png'\n",
    "img = skimage.io.imread(DVS_sample)\n",
    "resized = imresize(img, (2710, 3384), interp='nearest')\n",
    "plt.imshow(resized)"
   ]
  },
  {
   "cell_type": "code",
   "execution_count": 11,
   "metadata": {},
   "outputs": [],
   "source": [
    "def dvs_mask_convert(dvs_mask):\n",
    "    \"\"\"Convert a DVS color mask into a WAD integer mask with our indices.\"\"\"\n",
    "    H, W, _ = dvs_mask.shape\n",
    "    out_mask = np.zeros((H, W))\n",
    "    for i, color in enumerate(label_colours):\n",
    "        if i in dvs_to_ours:\n",
    "            out_mask[(dvs_mask[:, :, 0] == color[0]) & \n",
    "                     (dvs_mask[:, :, 1] == color[1]) & \n",
    "                     (dvs_mask[:, :, 2] == color[2])] = dvs_to_ours[i]\n",
    "    return out_mask"
   ]
  },
  {
   "cell_type": "markdown",
   "metadata": {},
   "source": [
    "### mIoU for DVS masks"
   ]
  },
  {
   "cell_type": "code",
   "execution_count": 12,
   "metadata": {},
   "outputs": [],
   "source": [
    "def iou(mask1, mask2):\n",
    "    \"\"\"Return array of iou values for each class.\n",
    "    \n",
    "    Each mask image expected to have int values [0, 7].\n",
    "    \n",
    "    Returns numpy array with 7 entries, each representing the class iou.\n",
    "    \n",
    "    If a class does not have any occurrences in mask1, then report iou of -1 as indicator.\"\"\"\n",
    "    iou_scores = np.zeros(7)\n",
    "    for i in range(7):\n",
    "        mask_val = i + 1\n",
    "        intersection = np.count_nonzero((mask1 == mask_val) & (mask2 == mask_val))\n",
    "        union = np.count_nonzero((mask1 == mask_val) | (mask2 == mask_val))\n",
    "        if np.count_nonzero(mask1 == mask_val) == 0:\n",
    "            iou_scores[i] = -1\n",
    "        elif intersection == 0 or union == 0:\n",
    "            continue\n",
    "        else:\n",
    "            iou_scores[i] = intersection / union\n",
    "    return iou_scores"
   ]
  },
  {
   "cell_type": "code",
   "execution_count": 13,
   "metadata": {},
   "outputs": [
    {
     "name": "stderr",
     "output_type": "stream",
     "text": [
      "/home/shared/anaconda3/lib/python3.6/site-packages/ipykernel_launcher.py:8: DeprecationWarning: `imresize` is deprecated!\n",
      "`imresize` is deprecated in SciPy 1.0.0, and will be removed in 1.2.0.\n",
      "Use ``skimage.transform.resize`` instead.\n",
      "  \n"
     ]
    },
    {
     "name": "stdout",
     "output_type": "stream",
     "text": [
      "[61.08309956  0.          0.          0.          0.39868079  0.\n",
      "  0.        ]\n",
      "[246.   2.   0.  13. 247.   0.   0.]\n"
     ]
    }
   ],
   "source": [
    "iou_scores = np.zeros(7)\n",
    "counts = np.zeros(7)\n",
    "\n",
    "for i in range(len(train_mask_image_paths)):\n",
    "    if i % 10 == 0:\n",
    "        print(i)\n",
    "    \n",
    "    # read in DVS mask\n",
    "    DVS_path = DVS_folder + 'mask' + str(i) + '.png'\n",
    "    DVS_img = skimage.io.imread(DVS_path)\n",
    "    DVS_img = imresize(DVS_img, (2710, 3384), interp='nearest')\n",
    "    DVS_mask = dvs_mask_convert(DVS_img)\n",
    "    \n",
    "    # read in training label mask\n",
    "    train_mask_img = skimage.io.imread(train_mask_image_paths[i])\n",
    "    train_mask = get_mask(train_mask_img)\n",
    "    \n",
    "    this_iou = iou(train_mask, DVS_mask)\n",
    "    for index in range(7):\n",
    "        if this_iou[index] >= 0.0:\n",
    "            iou_scores[index] += this_iou[index]\n",
    "            counts[index] += 1\n",
    "print(iou_scores)\n",
    "print(counts)"
   ]
  },
  {
   "cell_type": "markdown",
   "metadata": {},
   "source": [
    "### mIoU for Mask R-CNN masks"
   ]
  },
  {
   "cell_type": "code",
   "execution_count": 72,
   "metadata": {},
   "outputs": [
    {
     "name": "stdout",
     "output_type": "stream",
     "text": [
      "Processing 1 images\n",
      "image                    shape: (2710, 3384, 3)       min:    0.00000  max:  255.00000  uint8\n",
      "molded_images            shape: (1, 1024, 1024, 3)    min: -123.70000  max:  151.10000  float64\n",
      "image_metas              shape: (1, 20)               min:    0.00000  max: 3384.00000  float64\n",
      "anchors                  shape: (1, 261888, 4)        min:   -0.17695  max:    1.11439  float32\n",
      "[0.8747505  0.         0.         0.         0.87604461 0.\n",
      " 0.        ]\n"
     ]
    },
    {
     "data": {
      "image/png": "[encoded data removed]",
      "text/plain": [
       "<matplotlib.figure.Figure at 0x7f0b87006940>"
      ]
     },
     "metadata": {},
     "output_type": "display_data"
    }
   ],
   "source": [
    "# visualize things (uncomment to run)\n",
    "\n",
    "# mask_temp = skimage.io.imread(train_mask_image_paths[18])\n",
    "# train_mask = get_mask(mask_temp)\n",
    "# plt.imshow(train_mask, cmap='gray')\n",
    "\n",
    "# image = skimage.io.imread(train_image_paths[18])\n",
    "# results = model.detect([image], verbose=1)\n",
    "# r = results[0]\n",
    "# class_ids = r['class_ids']\n",
    "# scores = r['scores']\n",
    "# masks = r['masks']\n",
    "\n",
    "# mrcnn_mask = np.zeros((2710, 3384))\n",
    "# for i in range(len(class_ids)):\n",
    "#     mrcnn_mask[masks[:, :, i]] = class_ids[i]\n",
    "# plt.imshow(mrcnn_mask, cmap='gray')\n",
    "\n",
    "# DVS_path = DVS_folder + 'mask' + '18' + '.png'\n",
    "# DVS_img = skimage.io.imread(DVS_path)\n",
    "# DVS_img = imresize(DVS_img, (2710, 3384), interp='nearest')\n",
    "# DVS_mask = dvs_mask_convert(DVS_img)\n",
    "# plt.imshow(DVS_mask, cmap='gray')\n",
    "\n",
    "# print(iou(train_mask, mrcnn_mask))"
   ]
  },
  {
   "cell_type": "code",
   "execution_count": 19,
   "metadata": {},
   "outputs": [
    {
     "name": "stdout",
     "output_type": "stream",
     "text": [
      "0\n",
      "10\n",
      "20\n",
      "30\n",
      "40\n",
      "50\n",
      "60\n",
      "70\n",
      "80\n",
      "90\n",
      "100\n",
      "110\n",
      "120\n",
      "130\n",
      "140\n",
      "150\n",
      "160\n",
      "170\n",
      "180\n",
      "190\n",
      "200\n",
      "210\n",
      "220\n",
      "230\n",
      "240\n"
     ]
    }
   ],
   "source": [
    "# save all the mask r-cnn masks to make things faster later\n",
    "video_len = len(train_mask_image_paths)\n",
    "all_masks = np.zeros((video_len, 2710, 3384))\n",
    "\n",
    "for i in range(video_len):\n",
    "    if i % 10 == 0:\n",
    "        print(i)\n",
    "    img = skimage.io.imread(train_image_paths[i])\n",
    "    results = model.detect([img], verbose=0)\n",
    "    r = results[0]\n",
    "    class_ids = r['class_ids']\n",
    "    scores = r['scores']\n",
    "    masks = r['masks']\n",
    "\n",
    "    mrcnn_mask = np.zeros((2710, 3384))\n",
    "    for x in range(len(class_ids)):\n",
    "        mrcnn_mask[masks[:, :, x]] = class_ids[x]\n",
    "    all_masks[i] = mrcnn_mask"
   ]
  },
  {
   "cell_type": "code",
   "execution_count": 14,
   "metadata": {
    "scrolled": false
   },
   "outputs": [
    {
     "name": "stdout",
     "output_type": "stream",
     "text": [
      "0\n",
      "10\n",
      "20\n",
      "30\n",
      "40\n",
      "50\n",
      "60\n",
      "70\n",
      "80\n",
      "90\n",
      "100\n",
      "110\n",
      "120\n",
      "130\n",
      "140\n",
      "150\n",
      "160\n",
      "170\n",
      "180\n",
      "190\n",
      "200\n",
      "210\n",
      "220\n",
      "230\n",
      "240\n",
      "[160.66294403   0.           0.           0.         216.03022033\n",
      "   0.           0.        ]\n",
      "[246.   2.   0.  13. 247.   0.   0.]\n"
     ]
    }
   ],
   "source": [
    "iou_scores = np.zeros(7)\n",
    "counts = np.zeros(7)\n",
    "\n",
    "for i in range(len(train_mask_image_paths)):\n",
    "    if i % 10 == 0:\n",
    "        print(i)\n",
    "    \n",
    "    # read in training label mask\n",
    "    train_mask_img = skimage.io.imread(train_mask_image_paths[i])\n",
    "    train_mask = get_mask(train_mask_img)\n",
    "    \n",
    "    this_iou = iou(train_mask, all_masks[i])\n",
    "    \n",
    "    for index in range(7):\n",
    "        if this_iou[index] >= 0.0:\n",
    "            iou_scores[index] += this_iou[index]\n",
    "            counts[index] += 1\n",
    "\n",
    "# TODO: save these masks to make the other thing run faster\n",
    "            \n",
    "print(iou_scores)\n",
    "print(counts)"
   ]
  },
  {
   "cell_type": "markdown",
   "metadata": {},
   "source": [
    "### Mask R-CNN interpolation"
   ]
  },
  {
   "cell_type": "code",
   "execution_count": 21,
   "metadata": {},
   "outputs": [
    {
     "name": "stdout",
     "output_type": "stream",
     "text": [
      "1\n",
      "11\n",
      "21\n",
      "31\n",
      "41\n",
      "51\n",
      "61\n",
      "71\n",
      "81\n",
      "91\n",
      "101\n",
      "111\n",
      "121\n",
      "131\n",
      "141\n",
      "151\n",
      "161\n",
      "171\n",
      "181\n",
      "191\n",
      "201\n",
      "211\n",
      "221\n",
      "231\n",
      "241\n",
      "[159.15981955   0.           0.           0.         213.36390482\n",
      "   0.           0.        ]\n",
      "[244.   2.   0.  13. 245.   0.   0.]\n"
     ]
    }
   ],
   "source": [
    "iou_scores = np.zeros(7)\n",
    "counts = np.zeros(7)\n",
    "\n",
    "prev = np.zeros((2710, 3384))\n",
    "curr = np.zeros((2710, 3384))\n",
    "after = np.zeros((2710, 3384))\n",
    "\n",
    "\n",
    "# load the first two frames\n",
    "# img = skimage.io.imread(train_image_paths[i])\n",
    "# results = model.detect([img], verbose=0)\n",
    "# r = results[0]\n",
    "# class_ids = r['class_ids']\n",
    "# scores = r['scores']\n",
    "# masks = r['masks']\n",
    "# for x in range(len(class_ids)):\n",
    "#     prev[masks[:, :, x]] = class_ids[x]\n",
    "\n",
    "# img = skimage.io.imread(train_image_paths[i])\n",
    "# results = model.detect([img], verbose=0)\n",
    "# r = results[0]\n",
    "# class_ids = r['class_ids']\n",
    "# scores = r['scores']\n",
    "# masks = r['masks']\n",
    "# for x in range(len(class_ids)):\n",
    "#     curr[masks[:, :, x]] = class_ids[x] \n",
    "\n",
    "# only use frames that have surrounding information\n",
    "for i in range(1, len(train_mask_image_paths) - 1):\n",
    "    if i % 10 == 1:\n",
    "        print(i)\n",
    "    \n",
    "    # load in the after mask (index i + 1)\n",
    "#     img = skimage.io.imread(train_image_paths[i + 1])\n",
    "#     results = model.detect([img], verbose=0)\n",
    "#     r = results[0]\n",
    "#     class_ids = r['class_ids']\n",
    "#     scores = r['scores']\n",
    "#     masks = r['masks']\n",
    "\n",
    "    prev = all_masks[i - 1]\n",
    "    curr = all_masks[i]\n",
    "    after = all_masks[i + 1]\n",
    "\n",
    "#     after = np.zeros((2710, 3384))\n",
    "#     for x in range(len(class_ids)):\n",
    "#         after[masks[:, :, x]] = class_ids[x]\n",
    "    \n",
    "    # read in training label mask\n",
    "    train_mask_img = skimage.io.imread(train_mask_image_paths[i])\n",
    "    train_mask = get_mask(train_mask_img)\n",
    "    \n",
    "    # perform interpolation on a new mask using prev, curr, after\n",
    "    mrcnn_mask = np.copy(curr)\n",
    "    for index in range(7):\n",
    "        mrcnn_mask[(prev == index) & (curr == 0) & (after == index)] = index\n",
    "        mrcnn_mask[(prev == 0) & (curr != 0) & (after == 0)] = 0\n",
    "    \n",
    "    this_iou = iou(train_mask, mrcnn_mask)\n",
    "    \n",
    "    for index in range(7):\n",
    "        if this_iou[index] >= 0.0:\n",
    "            iou_scores[index] += this_iou[index]\n",
    "            counts[index] += 1\n",
    "    \n",
    "    # move variables\n",
    "#     prev = np.copy(curr)\n",
    "#     curr = np.copy(after)\n",
    "\n",
    "print(iou_scores)\n",
    "print(counts)"
   ]
  },
  {
   "cell_type": "markdown",
   "metadata": {},
   "source": [
    "## Mask R-CNN COCO Pretrained"
   ]
  },
  {
   "cell_type": "code",
   "execution_count": null,
   "metadata": {},
   "outputs": [],
   "source": [
    "# save all the coco mask r-cnn masks to make things faster later\n",
    "video_len = len(train_mask_image_paths)\n",
    "coco_masks = np.zeros((video_len, 2710, 3384))\n",
    "\n",
    "\n",
    "\n",
    "for i in range(video_len):\n",
    "    if i % 10 == 0:\n",
    "        print(i)\n",
    "    img = skimage.io.imread(train_image_paths[i])\n",
    "    results = model.detect([img], verbose=0)\n",
    "    r = results[0]\n",
    "    class_ids = r['class_ids']\n",
    "    scores = r['scores']\n",
    "    masks = r['masks']\n",
    "\n",
    "    mrcnn_mask = np.zeros((2710, 3384))\n",
    "    for x in range(len(class_ids)):\n",
    "        mrcnn_mask[masks[:, :, x]] = class_ids[x]\n",
    "    coco_masks[i] = mrcnn_mask"
   ]
  }
 ],
 "metadata": {
  "kernelspec": {
   "display_name": "Python 3",
   "language": "python",
   "name": "python3"
  },
  "language_info": {
   "codemirror_mode": {
    "name": "ipython",
    "version": 3
   },
   "file_extension": ".py",
   "mimetype": "text/x-python",
   "name": "python",
   "nbconvert_exporter": "python",
   "pygments_lexer": "ipython3",
   "version": "3.6.4"
  }
 },
 "nbformat": 4,
 "nbformat_minor": 2
}
