{
 "cells": [
  {
   "cell_type": "code",
   "execution_count": 1,
   "metadata": {},
   "outputs": [],
   "source": [
    "import os\n",
    "import sys\n",
    "import random\n",
    "import math\n",
    "import numpy as np\n",
    "import skimage.io\n",
    "import matplotlib\n",
    "import matplotlib.pyplot as plt\n",
    "\n",
    "import cv2\n",
    "\n",
    "import glob\n",
    "import csv\n",
    "\n",
    "# NOTE: change the home directory name here\n",
    "WAD_TRAIN_COLOR = \"/home/stevenzc/.kaggle/competitions/cvpr-2018-autonomous-driving/train_color/\"\n",
    "WAD_TRAIN_LABEL = \"/home/stevenzc/.kaggle/competitions/cvpr-2018-autonomous-driving/train_label/\"\n",
    "\n",
    "im_files = glob.glob(os.path.join(WAD_TRAIN_LABEL, '*.jpg'))\n",
    "label_files = glob.glob(os.path.join(WAD_TRAIN_LABEL, '*.png'))"
   ]
  },
  {
   "cell_type": "code",
   "execution_count": 16,
   "metadata": {},
   "outputs": [],
   "source": [
    "label_file = label_files[5]\n",
    "label_im = skimage.io.imread(label_file) # skimage read works properly, don't use cv2"
   ]
  },
  {
   "cell_type": "code",
   "execution_count": 17,
   "metadata": {},
   "outputs": [],
   "source": [
    "instances = np.unique(label_im)"
   ]
  },
  {
   "cell_type": "code",
   "execution_count": 18,
   "metadata": {},
   "outputs": [
    {
     "data": {
      "text/plain": [
       "array([  255, 33000, 33001, 33002, 33003, 33004, 33005, 36000, 36001,\n",
       "       38000, 65535], dtype=uint16)"
      ]
     },
     "execution_count": 18,
     "metadata": {},
     "output_type": "execute_result"
    }
   ],
   "source": [
    "instances"
   ]
  },
  {
   "cell_type": "code",
   "execution_count": 21,
   "metadata": {},
   "outputs": [],
   "source": [
    "wad_to_ours = {\n",
    "    33: 1,\n",
    "    34: 2,\n",
    "    35: 3,\n",
    "    36: 4,\n",
    "    38: 5,\n",
    "    39: 6,\n",
    "    40: 7\n",
    "}"
   ]
  },
  {
   "cell_type": "code",
   "execution_count": 24,
   "metadata": {},
   "outputs": [],
   "source": [
    "def get_masks(label_im):\n",
    "    \"\"\"Return lists of binary masks and ids corresponding to instances.\n",
    "    \n",
    "    Params:\n",
    "        label_im - label mask image from WAD as 2D numpy array\n",
    "    \n",
    "    Returns:\n",
    "        ids - list of ids corresponding to instance masks\n",
    "        masks - list of binary masks, each corresponding to one instance\n",
    "    \"\"\"\n",
    "    instances = np.unique(label_im)\n",
    "    ids = []\n",
    "    masks = []\n",
    "    \n",
    "    wad_to_ours = {\n",
    "        33: 1,\n",
    "        34: 2,\n",
    "        35: 3,\n",
    "        36: 4,\n",
    "        38: 5,\n",
    "        39: 6,\n",
    "        40: 7\n",
    "    }\n",
    "    \n",
    "    for instance in instances:\n",
    "        if instance != 255 and instance != 65535:\n",
    "            wad_id = int(instance / 1000)\n",
    "            our_id = wad_to_ours[wad_id]\n",
    "            mask = (label_im == instance)\n",
    "            ids.append(our_id)\n",
    "            masks.append(mask)\n",
    "    \n",
    "    return (ids, masks)"
   ]
  },
  {
   "cell_type": "code",
   "execution_count": 25,
   "metadata": {},
   "outputs": [
    {
     "data": {
      "text/plain": [
       "([1, 1, 1, 1, 1, 1, 4, 4, 5],\n",
       " [array([[False, False, False, ..., False, False, False],\n",
       "         [False, False, False, ..., False, False, False],\n",
       "         [False, False, False, ..., False, False, False],\n",
       "         ...,\n",
       "         [False, False, False, ..., False, False, False],\n",
       "         [False, False, False, ..., False, False, False],\n",
       "         [False, False, False, ..., False, False, False]]),\n",
       "  array([[False, False, False, ..., False, False, False],\n",
       "         [False, False, False, ..., False, False, False],\n",
       "         [False, False, False, ..., False, False, False],\n",
       "         ...,\n",
       "         [False, False, False, ..., False, False, False],\n",
       "         [False, False, False, ..., False, False, False],\n",
       "         [False, False, False, ..., False, False, False]]),\n",
       "  array([[False, False, False, ..., False, False, False],\n",
       "         [False, False, False, ..., False, False, False],\n",
       "         [False, False, False, ..., False, False, False],\n",
       "         ...,\n",
       "         [False, False, False, ..., False, False, False],\n",
       "         [False, False, False, ..., False, False, False],\n",
       "         [False, False, False, ..., False, False, False]]),\n",
       "  array([[False, False, False, ..., False, False, False],\n",
       "         [False, False, False, ..., False, False, False],\n",
       "         [False, False, False, ..., False, False, False],\n",
       "         ...,\n",
       "         [False, False, False, ..., False, False, False],\n",
       "         [False, False, False, ..., False, False, False],\n",
       "         [False, False, False, ..., False, False, False]]),\n",
       "  array([[False, False, False, ..., False, False, False],\n",
       "         [False, False, False, ..., False, False, False],\n",
       "         [False, False, False, ..., False, False, False],\n",
       "         ...,\n",
       "         [False, False, False, ..., False, False, False],\n",
       "         [False, False, False, ..., False, False, False],\n",
       "         [False, False, False, ..., False, False, False]]),\n",
       "  array([[False, False, False, ..., False, False, False],\n",
       "         [False, False, False, ..., False, False, False],\n",
       "         [False, False, False, ..., False, False, False],\n",
       "         ...,\n",
       "         [False, False, False, ..., False, False, False],\n",
       "         [False, False, False, ..., False, False, False],\n",
       "         [False, False, False, ..., False, False, False]]),\n",
       "  array([[False, False, False, ..., False, False, False],\n",
       "         [False, False, False, ..., False, False, False],\n",
       "         [False, False, False, ..., False, False, False],\n",
       "         ...,\n",
       "         [False, False, False, ..., False, False, False],\n",
       "         [False, False, False, ..., False, False, False],\n",
       "         [False, False, False, ..., False, False, False]]),\n",
       "  array([[False, False, False, ..., False, False, False],\n",
       "         [False, False, False, ..., False, False, False],\n",
       "         [False, False, False, ..., False, False, False],\n",
       "         ...,\n",
       "         [False, False, False, ..., False, False, False],\n",
       "         [False, False, False, ..., False, False, False],\n",
       "         [False, False, False, ..., False, False, False]]),\n",
       "  array([[False, False, False, ..., False, False, False],\n",
       "         [False, False, False, ..., False, False, False],\n",
       "         [False, False, False, ..., False, False, False],\n",
       "         ...,\n",
       "         [False, False, False, ..., False, False, False],\n",
       "         [False, False, False, ..., False, False, False],\n",
       "         [False, False, False, ..., False, False, False]])])"
      ]
     },
     "execution_count": 25,
     "metadata": {},
     "output_type": "execute_result"
    }
   ],
   "source": [
    "get_masks(label_im)"
   ]
  },
  {
   "cell_type": "code",
   "execution_count": null,
   "metadata": {},
   "outputs": [],
   "source": []
  }
 ],
 "metadata": {
  "kernelspec": {
   "display_name": "Python 3",
   "language": "python",
   "name": "python3"
  },
  "language_info": {
   "codemirror_mode": {
    "name": "ipython",
    "version": 3
   },
   "file_extension": ".py",
   "mimetype": "text/x-python",
   "name": "python",
   "nbconvert_exporter": "python",
   "pygments_lexer": "ipython3",
   "version": "3.6.4"
  }
 },
 "nbformat": 4,
 "nbformat_minor": 2
}
